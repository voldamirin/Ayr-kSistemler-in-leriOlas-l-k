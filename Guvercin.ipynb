{
  "nbformat": 4,
  "nbformat_minor": 0,
  "metadata": {
    "colab": {
      "provenance": [],
      "authorship_tag": "ABX9TyM8bjbeBqRp/n9kDuOOWFhE",
      "include_colab_link": true
    },
    "kernelspec": {
      "name": "python3",
      "display_name": "Python 3"
    },
    "language_info": {
      "name": "python"
    }
  },
  "cells": [
    {
      "cell_type": "markdown",
      "metadata": {
        "id": "view-in-github",
        "colab_type": "text"
      },
      "source": [
        "<a href=\"https://colab.research.google.com/github/voldamirin/AyrikSistemlerIcinIleriOlasilik/blob/main/Guvercin.ipynb\" target=\"_parent\"><img src=\"https://colab.research.google.com/assets/colab-badge.svg\" alt=\"Open In Colab\"/></a>"
      ]
    },
    {
      "cell_type": "markdown",
      "source": [
        "Güvercin yuvası ilkesi, genellikle matematik ve bilgisayar bilimlerinde kullanılan bir prensiptir. İlke, eğer n öğeyi m kutuya koyarsak ve >\n",
        "n>m ise, en az bir kutunun birden fazla öğe içermesi gerektiğini belirtir. Bu ilke, çeşitli algoritmalarda ve problemlerde kullanılabilir."
      ],
      "metadata": {
        "id": "435llM9VOc8t"
      }
    },
    {
      "cell_type": "code",
      "execution_count": 1,
      "metadata": {
        "colab": {
          "base_uri": "https://localhost:8080/"
        },
        "id": "2pFLuSyYMaAy",
        "outputId": "b168f9b2-c774-48ea-ebd3-78135572eb73"
      },
      "outputs": [
        {
          "output_type": "stream",
          "name": "stdout",
          "text": [
            "Aynı günde doğan ilk insanları bulmak için 53 kişiye ihtiyaç vardı.\n"
          ]
        }
      ],
      "source": [
        "import random\n",
        "\n",
        "# Günlere göre insan sayısını saklamak için bir sözlük oluştur\n",
        "days = {i:0 for i in range(1, 366)}\n",
        "\n",
        "# Rastgele insanların doğum günlerini atayalım ve aynı gün doğan olup olmadığını kontrol edelim\n",
        "people = 0\n",
        "while True:\n",
        "    people += 1\n",
        "    birthday = random.randint(1, 365)\n",
        "    days[birthday] += 1\n",
        "    # Eğer bir günde birden fazla insan varsa, döngüyü kır\n",
        "    if days[birthday] > 1:\n",
        "        break\n",
        "\n",
        "print(f\"Aynı günde doğan ilk insanları bulmak için {people} kişiye ihtiyaç vardı.\")\n"
      ]
    }
  ]
}