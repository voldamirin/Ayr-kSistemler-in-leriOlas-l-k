{
  "nbformat": 4,
  "nbformat_minor": 0,
  "metadata": {
    "colab": {
      "provenance": [],
      "authorship_tag": "ABX9TyNNInD2EL3Dxz2y5GTp62o+",
      "include_colab_link": true
    },
    "kernelspec": {
      "name": "python3",
      "display_name": "Python 3"
    },
    "language_info": {
      "name": "python"
    }
  },
  "cells": [
    {
      "cell_type": "markdown",
      "metadata": {
        "id": "view-in-github",
        "colab_type": "text"
      },
      "source": [
        "<a href=\"https://colab.research.google.com/github/voldamirin/AyrikSistemlerIcinIleriOlasilik/blob/main/Guvercin.ipynb\" target=\"_parent\"><img src=\"https://colab.research.google.com/assets/colab-badge.svg\" alt=\"Open In Colab\"/></a>"
      ]
    },
    {
      "cell_type": "code",
      "execution_count": 3,
      "metadata": {
        "colab": {
          "base_uri": "https://localhost:8080/"
        },
        "id": "2pFLuSyYMaAy",
        "outputId": "5d40b9f1-97d5-4e54-af05-05ebbf2a9666"
      },
      "outputs": [
        {
          "output_type": "stream",
          "name": "stdout",
          "text": [
            "Aynı günde doğan ilk insanları bulmak için 28 kişiye ihtiyaç vardı.\n"
          ]
        }
      ],
      "source": [
        "import random\n",
        "\n",
        "# Günlere göre insan sayısını saklamak için bir sözlük oluştur\n",
        "days = {i:0 for i in range(1, 366)}\n",
        "\n",
        "# Rastgele insanların doğum günlerini atayalım ve aynı gün doğan olup olmadığını kontrol edelim\n",
        "people = 0\n",
        "while True:\n",
        "    people += 1\n",
        "    birthday = random.randint(1, 365)\n",
        "    days[birthday] += 1\n",
        "    # Eğer bir günde birden fazla insan varsa, döngüyü kır\n",
        "    if days[birthday] > 1:\n",
        "        break\n",
        "\n",
        "print(f\"Aynı günde doğan ilk insanları bulmak için {people} kişiye ihtiyaç vardı.\")\n"
      ]
    }
  ]
}