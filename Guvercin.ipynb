{
  "nbformat": 4,
  "nbformat_minor": 0,
  "metadata": {
    "colab": {
      "provenance": [],
      "authorship_tag": "ABX9TyPppM7fOfjXb2fj9a0o1dJA",
      "include_colab_link": true
    },
    "kernelspec": {
      "name": "python3",
      "display_name": "Python 3"
    },
    "language_info": {
      "name": "python"
    }
  },
  "cells": [
    {
      "cell_type": "markdown",
      "metadata": {
        "id": "view-in-github",
        "colab_type": "text"
      },
      "source": [
        "<a href=\"https://colab.research.google.com/github/voldamirin/AyrikSistemlerIcinIleriOlasilik/blob/main/Guvercin.ipynb\" target=\"_parent\"><img src=\"https://colab.research.google.com/assets/colab-badge.svg\" alt=\"Open In Colab\"/></a>"
      ]
    },
    {
      "cell_type": "markdown",
      "source": [
        "Güvercin yuvası ilkesi, genellikle matematik ve bilgisayar bilimlerinde kullanılan bir prensiptir. İlke, eğer n öğeyi m kutuya koyarsak ve\n",
        "n>m ise, en az bir kutunun birden fazla öğe içermesi gerektiğini belirtir. Bu ilke, çeşitli algoritmalarda ve problemlerde kullanılabilir."
      ],
      "metadata": {
        "id": "435llM9VOc8t"
      }
    },
    {
      "cell_type": "markdown",
      "source": [
        "Bir grup insanın doğum günlerini ve bunların yılın günlerine (1'den 365'e) nasıl dağıldığını incelemek istiyoruz. Güvercin yuvası ilkesine göre, 366 kişi içinde en az iki kişinin aynı gün doğmuş olması gerekir (artık yıl olmadığını varsayarak). Ancak, gerçekte bu sayı çok daha düşük bir insan sayısında bile ortak doğum günleri görmeye başlarız."
      ],
      "metadata": {
        "id": "Rwv5gpQRPI4q"
      }
    },
    {
      "cell_type": "markdown",
      "source": [
        "Aşağıdaki kod örneğinde rastgele doğum günlerine göre aynı gün doğmuş olabilecek kişinin ilk hangi günde iki kişinin aynı günde doğduğu bulan uygulamadır."
      ],
      "metadata": {
        "id": "956ca7ztPRNb"
      }
    },
    {
      "cell_type": "code",
      "execution_count": 3,
      "metadata": {
        "id": "2pFLuSyYMaAy"
      },
      "outputs": [],
      "source": [
        "import random\n",
        "\n",
        "# Günlere göre insan sayısını saklamak için bir sözlük oluştur\n",
        "days = {i:0 for i in range(1, 366)}\n"
      ]
    },
    {
      "cell_type": "code",
      "source": [
        "# Rastgele insanların doğum günlerini atayalım ve aynı gün doğan olup olmadığını kontrol edelim\n",
        "people = 0\n",
        "while True:\n",
        "    people += 1\n",
        "    birthday = random.randint(1, 365)\n",
        "    days[birthday] += 1\n",
        "    # Eğer bir günde birden fazla insan varsa, döngüyü kır\n",
        "    if days[birthday] > 1:\n",
        "        break"
      ],
      "metadata": {
        "id": "ZlscI9zeRCG9"
      },
      "execution_count": 4,
      "outputs": []
    },
    {
      "cell_type": "code",
      "source": [
        "print(f\"Aynı günde doğan ilk insanları bulmak için {people} kişiye ihtiyaç vardı.\")"
      ],
      "metadata": {
        "id": "BuPu56FaRHNS",
        "outputId": "7c32be48-3506-4e68-a4e0-ad668f3e0a26",
        "colab": {
          "base_uri": "https://localhost:8080/"
        }
      },
      "execution_count": 5,
      "outputs": [
        {
          "output_type": "stream",
          "name": "stdout",
          "text": [
            "Aynı günde doğan ilk insanları bulmak için 35 kişiye ihtiyaç vardı.\n"
          ]
        }
      ]
    }
  ]
}