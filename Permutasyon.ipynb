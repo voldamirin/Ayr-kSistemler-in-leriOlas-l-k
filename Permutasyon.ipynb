{
  "nbformat": 4,
  "nbformat_minor": 0,
  "metadata": {
    "colab": {
      "provenance": [],
      "toc_visible": true,
      "authorship_tag": "ABX9TyOq+X60xXNfG647uIkA6CoZ",
      "include_colab_link": true
    },
    "kernelspec": {
      "name": "python3",
      "display_name": "Python 3"
    },
    "language_info": {
      "name": "python"
    }
  },
  "cells": [
    {
      "cell_type": "markdown",
      "metadata": {
        "id": "view-in-github",
        "colab_type": "text"
      },
      "source": [
        "<a href=\"https://colab.research.google.com/github/voldamirin/AyrikSistemlerIcinIleriOlasilik/blob/main/Permutasyon.ipynb\" target=\"_parent\"><img src=\"https://colab.research.google.com/assets/colab-badge.svg\" alt=\"Open In Colab\"/></a>"
      ]
    },
    {
      "cell_type": "markdown",
      "source": [
        "Problem\n",
        "Bir bilgisayar mağazasında farklı markalardan 5 adet bilgisayar bulunmaktadır. Bu bilgisayarlar sırasıyla: Dell, HP, Lenovo, Asus, ve Acer markalarındandır. Mağaza sahibi, bu bilgisayarları bir vitrinde yan yana sergilemek istiyor. Ancak, Dell ve HP bilgisayarların birbirinin yanında olmaması gerektiğine karar verdi. Bu durumda, bilgisayarların sergilenebileceği kaç farklı düzenleme vardır?"
      ],
      "metadata": {
        "id": "P7k-mRYHxNt3"
      }
    },
    {
      "cell_type": "code",
      "execution_count": 1,
      "metadata": {
        "colab": {
          "base_uri": "https://localhost:8080/"
        },
        "id": "I2A8ntPUxIct",
        "outputId": "85d8f568-1915-4cd0-8f18-f6ad64cd60c7"
      },
      "outputs": [
        {
          "output_type": "stream",
          "name": "stdout",
          "text": [
            "Toplam geçerli düzenleme sayısı: 72\n",
            "Örnek düzenlemeler:\n",
            "['Dell', 'Lenovo', 'HP', 'Asus', 'Acer']\n",
            "['Dell', 'Lenovo', 'HP', 'Acer', 'Asus']\n",
            "['Dell', 'Lenovo', 'Asus', 'HP', 'Acer']\n",
            "['Dell', 'Lenovo', 'Asus', 'Acer', 'HP']\n",
            "['Dell', 'Lenovo', 'Acer', 'HP', 'Asus']\n"
          ]
        }
      ],
      "source": [
        "def permute(lst):\n",
        "    # Eğer liste boş veya tek elemanlıysa, direkt olarak döndür\n",
        "    if len(lst) <= 1:\n",
        "        return [lst]\n",
        "\n",
        "    # Permutasyonlar için boş bir liste\n",
        "    permutations = []\n",
        "\n",
        "    # Listenin her elemanı için\n",
        "    for i in range(len(lst)):\n",
        "        # Mevcut eleman\n",
        "        current = lst[i]\n",
        "        # Mevcut eleman hariç kalanlar\n",
        "        remaining_list = lst[:i] + lst[i+1:]\n",
        "        # Kalan listeyi permüte et ve her bir permütasyon için mevcut elemanı ekle\n",
        "        for p in permute(remaining_list):\n",
        "            permutations.append([current] + p)\n",
        "\n",
        "    return permutations\n",
        "\n",
        "def filter_permutations(perm_list):\n",
        "    # Dell ve HP'nin yan yana olmadığı permütasyonları filtrele\n",
        "    return [perm for perm in perm_list if abs(perm.index('Dell') - perm.index('HP')) != 1]\n",
        "\n",
        "# Bilgisayar markalarını bir liste olarak tanımlayalım.\n",
        "computers = ['Dell', 'HP', 'Lenovo', 'Asus', 'Acer']\n",
        "\n",
        "# Tüm permütasyonları oluştur\n",
        "all_permutations = permute(computers)\n",
        "\n",
        "# Geçerli permütasyonları filtrele\n",
        "valid_permutations = filter_permutations(all_permutations)\n",
        "\n",
        "# Sonuçları yazdır\n",
        "print(f'Toplam geçerli düzenleme sayısı: {len(valid_permutations)}')\n",
        "print('Örnek düzenlemeler:')\n",
        "for perm in valid_permutations[:5]:  # İlk 5 geçerli düzenlemeyi örnek olarak göster\n",
        "    print(perm)"
      ]
    }
  ]
}