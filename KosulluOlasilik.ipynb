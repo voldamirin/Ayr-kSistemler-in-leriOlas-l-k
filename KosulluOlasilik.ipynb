{
  "nbformat": 4,
  "nbformat_minor": 0,
  "metadata": {
    "colab": {
      "provenance": [],
      "authorship_tag": "ABX9TyOXbkPRQEVwXBjseiGGZdS/",
      "include_colab_link": true
    },
    "kernelspec": {
      "name": "python3",
      "display_name": "Python 3"
    },
    "language_info": {
      "name": "python"
    }
  },
  "cells": [
    {
      "cell_type": "markdown",
      "metadata": {
        "id": "view-in-github",
        "colab_type": "text"
      },
      "source": [
        "<a href=\"https://colab.research.google.com/github/voldamirin/AyrikSistemlerIcinIleriOlasilik/blob/main/KosulluOlasilik.ipynb\" target=\"_parent\"><img src=\"https://colab.research.google.com/assets/colab-badge.svg\" alt=\"Open In Colab\"/></a>"
      ]
    },
    {
      "cell_type": "markdown",
      "source": [
        "**Problem :** Bir çanta içinde 7 mavi, 5 yeşil ve 8 kırmızı bilye vardır. Bir bilye çekildiğinde mavi olma olasılığı ile birlikte, mavi bilye çektikten sonra tekrar mavi bir bilye çekme koşullu olasılığı nedir?"
      ],
      "metadata": {
        "id": "MXJyFLhn66IP"
      }
    },
    {
      "cell_type": "code",
      "execution_count": null,
      "metadata": {
        "id": "C0WmbTm_6LxS"
      },
      "outputs": [],
      "source": [
        "# Toplam bilye sayısı\n",
        "toplam_bilye = 7 + 5 + 8\n",
        "\n",
        "# İlk bilyenin mavi olma olasılığı\n",
        "P_mavi = 7 / toplam_bilye\n",
        "\n",
        "# İlk bilyenin mavi çıktığı durumda bir sonraki bilyenin de mavi olma olasılığı\n",
        "# İlk mavi bilye çekildikten sonra mavi bilye sayısı 6'ya düşer ve toplam bilye sayısı 1 azalır\n",
        "P_mavi_sonrasi_mavi = 6 / (toplam_bilye - 1)\n",
        "\n",
        "# Koşullu olasılık hesaplama\n",
        "P = P_mavi * P_mavi_sonrasi_mavi\n",
        "\n",
        "print(f\"İlk bilyenin mavi olma olasılığı: {P_mavi:.2f}\")\n",
        "print(f\"İlk bilye mavi çıktıktan sonra bir sonraki bilyenin de mavi olma olasılığı: {P_mavi_sonrasi_mavi:.2f}\")\n",
        "print(f\"İki ardışık bilyenin mavi olma olasılığı: {P:.2f}\")"
      ]
    }
  ]
}