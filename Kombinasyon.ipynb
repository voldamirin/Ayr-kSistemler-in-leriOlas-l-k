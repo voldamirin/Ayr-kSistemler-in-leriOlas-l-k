{
  "nbformat": 4,
  "nbformat_minor": 0,
  "metadata": {
    "colab": {
      "provenance": [],
      "authorship_tag": "ABX9TyMdv47rxmGumjDV40tB7XI4",
      "include_colab_link": true
    },
    "kernelspec": {
      "name": "python3",
      "display_name": "Python 3"
    },
    "language_info": {
      "name": "python"
    }
  },
  "cells": [
    {
      "cell_type": "markdown",
      "metadata": {
        "id": "view-in-github",
        "colab_type": "text"
      },
      "source": [
        "<a href=\"https://colab.research.google.com/github/voldamirin/AyrikSistemlerIcinIleriOlasilik/blob/main/Kombinasyon.ipynb\" target=\"_parent\"><img src=\"https://colab.research.google.com/assets/colab-badge.svg\" alt=\"Open In Colab\"/></a>"
      ]
    },
    {
      "cell_type": "markdown",
      "source": [
        "**Problem**\n",
        "\n",
        "Bir kafede 6 farklı tür çay sunulmaktadır: Siyah, Yeşil, Beyaz, Oolong, Mate ve Rooibos. Bir müşteri, bu çaylardan 3'ünü denemek istiyor. Müşterinin seçebileceği farklı çay kombinasyonları kaç farklı şekilde olabilir?"
      ],
      "metadata": {
        "id": "3w1ALXEHLYlH"
      }
    },
    {
      "cell_type": "code",
      "execution_count": 1,
      "metadata": {
        "colab": {
          "base_uri": "https://localhost:8080/"
        },
        "id": "F55svPVnLSA0",
        "outputId": "76c85c93-9118-4640-e13e-5e0724eb8673"
      },
      "outputs": [
        {
          "output_type": "stream",
          "name": "stdout",
          "text": [
            "Toplam kombinasyon sayısı: 20\n",
            "['Siyah', 'Yeşil', 'Beyaz']\n",
            "['Siyah', 'Yeşil', 'Oolong']\n",
            "['Siyah', 'Yeşil', 'Mate']\n",
            "['Siyah', 'Yeşil', 'Rooibos']\n",
            "['Siyah', 'Beyaz', 'Oolong']\n",
            "['Siyah', 'Beyaz', 'Mate']\n",
            "['Siyah', 'Beyaz', 'Rooibos']\n",
            "['Siyah', 'Oolong', 'Mate']\n",
            "['Siyah', 'Oolong', 'Rooibos']\n",
            "['Siyah', 'Mate', 'Rooibos']\n",
            "['Yeşil', 'Beyaz', 'Oolong']\n",
            "['Yeşil', 'Beyaz', 'Mate']\n",
            "['Yeşil', 'Beyaz', 'Rooibos']\n",
            "['Yeşil', 'Oolong', 'Mate']\n",
            "['Yeşil', 'Oolong', 'Rooibos']\n",
            "['Yeşil', 'Mate', 'Rooibos']\n",
            "['Beyaz', 'Oolong', 'Mate']\n",
            "['Beyaz', 'Oolong', 'Rooibos']\n",
            "['Beyaz', 'Mate', 'Rooibos']\n",
            "['Oolong', 'Mate', 'Rooibos']\n"
          ]
        }
      ],
      "source": [
        "def combine(lst, k):\n",
        "    # Kombinasyonların sayısı k'dan büyük olmalıdır.\n",
        "    if k > len(lst):\n",
        "        return []\n",
        "\n",
        "    # Eğer k 1 ise, her elemanı tek başına bir liste olarak döndür.\n",
        "    if k == 1:\n",
        "        return [[i] for i in lst]\n",
        "\n",
        "    # Eğer k listesinin uzunluğuna eşitse, tüm listeyi bir kombinasyon olarak döndür.\n",
        "    if k == len(lst):\n",
        "        return [lst]\n",
        "\n",
        "    # Kombinasyonlar için boş bir liste\n",
        "    combinations = []\n",
        "\n",
        "    # Listenin her elemanı için\n",
        "    for i in range(len(lst)):\n",
        "        # Mevcut eleman sonrası için kombinasyonları hesapla\n",
        "        for next_comb in combine(lst[i+1:], k-1):\n",
        "            combinations.append([lst[i]] + next_comb)\n",
        "\n",
        "    return combinations\n",
        "\n",
        "# Çay listesi\n",
        "teas = ['Siyah', 'Yeşil', 'Beyaz', 'Oolong', 'Mate', 'Rooibos']\n",
        "\n",
        "# 3 çay için kombinasyonları hesapla\n",
        "combinations = combine(teas, 3)\n",
        "\n",
        "# Sonuçları yazdır\n",
        "print(f'Toplam kombinasyon sayısı: {len(combinations)}')\n",
        "for comb in combinations:\n",
        "    print(comb)"
      ]
    }
  ]
}